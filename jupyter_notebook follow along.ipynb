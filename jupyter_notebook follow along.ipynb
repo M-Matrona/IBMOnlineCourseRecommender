{
 "cells": [
  {
   "cell_type": "code",
   "execution_count": 18,
   "id": "8e46b0a7",
   "metadata": {},
   "outputs": [],
   "source": [
    "pca_data = [\n",
    "[20.9666776351559,-13.1138080189357],\n",
    "[22.7719907680008,-19.8890894944696],\n",
    "[25.6687103160153,-11.9956004517219],\n",
    "[18.0019794950564,-18.1989191165133],\n",
    "[21.3967402102156,-10.8893126308196],\n",
    "[0.443696899177716,-19.7221132386308],\n",
    "[29.9198322142127,-14.0958668502427],\n",
    "[19.0805843080126,-13.7888747608312],\n",
    "[16.4685063521314,-11.2612927034291],\n",
    "[21.4597664701884,-12.4740034586705],\n",
    "[3.87655283720532,-17.575162461771],\n",
    "[34.5713920556787,-10.705185165378],\n",
    "[13.3732115747722,-16.7270274494424],\n",
    "[20.7281704141919,-8.81165591556553],\n",
    "[24.839851437942,-12.1240962157419],\n",
    "[20.3019544741252,-12.8725060780898],\n",
    "[21.9021426929599,-17.3225432396452],\n",
    "[23.2285885715486,-12.2676568419045],\n",
    "[28.5749111681851,-13.2616470619453],\n",
    "[29.2957424128701,-14.6299928678996],\n",
    "[15.2495527798625,-18.4649714274207],\n",
    "[26.5567257400476,-9.19794350561966],\n",
    "[30.1934232346361,-12.6272709845971],\n",
    "[36.8267446011057,-7.25409849336718],\n",
    "[32.157416823084,-10.4729534347553],\n",
    "[5.85964365291694,-22.6573731626132],\n",
    "[25.7426190674693,-14.8055803854566],\n",
    "[16.237602636139,-16.5920595763719],\n",
    "[14.7408608850568,-20.0537715298403],\n",
    "[6.85907008242544,-18.3965586884781],\n",
    "[26.5918329233128,-8.92664811750842],\n",
    "[-11.2216019958228,-27.0519081982856],\n",
    "[8.93593745011035,-20.8261235122575],\n",
    "[24.4481258671796,-18.0324012215159],\n",
    "[2.82048515404903,-22.4208457598703],\n",
    "[30.8803004755948,-11.455358009593],\n",
    "[15.4586738236098,-11.1242825084309],\n",
    "[28.5332537090494,-14.7898744423126],\n",
    "[40.4830293441052,-2.41946428697183],\n",
    "[15.7563759125684,-13.5771266003795],\n",
    "[19.3635588851727,-20.6224770470434],\n",
    "[13.4212840786467,-19.0238227375766],\n",
    "[7.77570680426702,-16.6385739839089],\n",
    "[21.4865983854408,-15.290799330002],\n",
    "[12.6392705930724,-23.6433305964301],\n",
    "[12.4746151388128,-17.9720169566614],\n",
    "[23.4572410437998,-14.602080545086],\n",
    "[13.6878189833565,-18.9687408182414],\n",
    "[15.4077465943441,-14.5352487124086],\n",
    "[20.3356581548895,-10.0883159703702],\n",
    "[20.7093833689359,-12.6939091236766],\n",
    "[11.1032293684441,-14.1383848928755],\n",
    "[17.5048321498308,-9.2338593361801],\n",
    "[16.3303688220188,-15.1054735529158],\n",
    "[26.6929062710726,-13.306030567991],\n",
    "[34.4985678099711,-9.86199941278607],\n",
    "[39.1374291499406,-10.5621430853401],\n",
    "[21.9088956482146,-9.95198845621849],\n",
    "[22.2367457578087,-17.2200123442707],\n",
    "[10.0032784145577,-19.3557700653426],\n",
    "[14.045833906665,-15.871937521131],\n",
    "[15.5640911917607,-18.3396956121887],\n",
    "[24.4771926581586,-14.8715313479137],\n",
    "[26.533415556629,-14.693883922494],\n",
    "[12.8722580202544,-21.2750596021509],\n",
    "[24.4768291376862,-15.9592080959207],\n",
    "[18.2230748567433,-14.6541444069985],\n",
    "[4.1902148367447,-20.6144032528762],\n",
    "[12.4332594022086,-16.6079789231489],\n",
    "[20.5483758651873,-18.8512560786321],\n",
    "[17.8180560451358,-12.5451990696752],\n",
    "[11.0071081078049,-20.3938092335862],\n",
    "[8.30560561422449,-22.9503944138682],\n",
    "[33.9857852657284,-4.8371294974382],\n",
    "[17.4376502239652,-14.5095976075022],\n",
    "[29.0379635148943,-14.8461553663227],\n",
    "[29.1344666599319,-7.70862921632672],\n",
    "[32.9730697624544,-15.5839178785654],\n",
    "[13.4211493998212,-20.150199857584],\n",
    "[11.380538260355,-12.8619410359766],\n",
    "[28.672631499186,-8.51866271785711],\n",
    "[16.4296061111902,-23.3326051279759],\n",
    "[25.7168371582585,-13.8899296143829],\n",
    "[13.3185154732595,-17.8959160024249],\n",
    "[3.60832478605376,-25.4023343597712],\n",
    "[39.5445949652652,-11.466377647931],\n",
    "[25.1693484426101,-12.2752652925707],\n",
    "[25.2884257196471,-7.06710309184533],\n",
    "[6.77665715793125,-22.3947299635571],\n",
    "[20.1844223778907,-16.0427471125407],\n",
    "[25.5506805272535,-9.33856532270204],\n",
    "[25.1495682602477,-7.17350567090738],\n",
    "[15.6978431006492,-17.5979197162642],\n",
    "[37.42780451491,-10.843637288504],\n",
    "[22.974620174842,-10.6171162611686],\n",
    "[34.6327117468934,-9.26182440487384],\n",
    "[34.7042513789061,-6.9630753351114],\n",
    "[15.6563953929008,-17.2196961218915],\n",
    "[25.2049825789225,-14.1592086208169]\n",
    "]"
   ]
  },
  {
   "cell_type": "code",
   "execution_count": 83,
   "id": "92d13acc",
   "metadata": {},
   "outputs": [],
   "source": [
    "# each data point is a vector\n",
    "def de_mean(data: List[Vector]) -> List[Vector]:\n",
    "    \"\"\"Recenters the data to have mean 0 in every dimension\"\"\"\n",
    "    mean = vector_mean(data)\n",
    "    return [subtract(vector, mean) for vector in data]\n",
    "\n",
    "\n",
    "\n",
    "def direction(w: Vector) -> Vector:\n",
    "    mag = magnitude(w)\n",
    "    return [w_i / mag for w_i in w]\n",
    "\n",
    "\n",
    "\n",
    "def directional_variance(data: List[Vector], w: Vector) -> float:\n",
    "    \"\"\"\n",
    "    Returns the variance of x in the direction of w\n",
    "    \"\"\"\n",
    "    w_dir = direction(w)\n",
    "    return sum(dot(v, w_dir) ** 2 for v in data)\n",
    "\n",
    "\n",
    "def directional_variance_gradient(data: List[Vector], w: Vector) -> Vector:\n",
    "    \"\"\"\n",
    "    The gradient of directional variance with respect to w\n",
    "    \"\"\"\n",
    "    w_dir = direction(w)\n",
    "    return [sum(2 * dot(v, w_dir) * v[i] for v in data)\n",
    "            for i in range(len(w))]\n",
    "\n",
    "\n",
    "def first_principal_component(data: List[Vector],\n",
    "                              n: int = 100,\n",
    "                              step_size: float = 0.1) -> Vector:\n",
    "    # Start with a random guess\n",
    "    guess = [1.0 for _ in data[0]]\n",
    "\n",
    "    with tqdm.trange(n) as t:\n",
    "        for _ in t:\n",
    "            dv = directional_variance(data, guess) #guess for principal component\n",
    "            gradient = directional_variance_gradient(data, guess)\n",
    "            guess = gradient_step(guess, gradient, step_size)\n",
    "            t.set_description(f\"dv: {dv:.3f}\")\n",
    "\n",
    "    return direction(guess)\n",
    "\n",
    "from scratch.linear_algebra import scalar_multiply\n",
    "\n",
    "def project(v: Vector, w: Vector) -> Vector:\n",
    "    \"\"\"return the projection of v onto the direction w\"\"\"\n",
    "    projection_length = dot(v, w)\n",
    "    return scalar_multiply(projection_length, w)\n",
    "\n",
    "from scratch.linear_algebra import subtract\n",
    "\n",
    "def remove_projection_from_vector(v: Vector, w: Vector) -> Vector:\n",
    "    \"\"\"projects v onto w and subtracts the result from v\"\"\"\n",
    "    return subtract(v, project(v, w))\n",
    "\n",
    "def remove_projection(data: List[Vector], w: Vector) -> List[Vector]:\n",
    "    return [remove_projection_from_vector(v, w) for v in data]\n",
    "\n",
    "def pca(data: List[Vector], num_components: int) -> List[Vector]:\n",
    "    components: List[Vector] = []\n",
    "    for _ in range(num_components):\n",
    "        component = first_principal_component(data)\n",
    "        components.append(component)\n",
    "        data = remove_projection(data, component)\n",
    "\n",
    "    return components\n",
    "\n",
    "def transform_vector(v: Vector, components: List[Vector]) -> Vector:\n",
    "    return [dot(v, w) for w in components]\n",
    "\n",
    "def transform(data: List[Vector], components: List[Vector]) -> List[Vector]:\n",
    "    return [transform_vector(v, components) for v in data]\n"
   ]
  },
  {
   "cell_type": "code",
   "execution_count": 78,
   "id": "9bffdb1c",
   "metadata": {},
   "outputs": [],
   "source": [
    "import os\n",
    "import matplotlib.pyplot as plt\n",
    "\n",
    "os.chdir(r'C:\\Users\\mmatr\\Desktop\\Learning Data Science\\DSFS\\data-science-from-scratch')\n",
    "from scratch.linear_algebra import subtract, vector_mean, magnitude , dot, Matrix, Vector, make_matrix, vector_sum\n",
    "from typing import List, Dict\n",
    "\n",
    "from scratch.gradient_descent import gradient_step\n",
    "import tqdm"
   ]
  },
  {
   "cell_type": "code",
   "execution_count": 20,
   "id": "bda677d3",
   "metadata": {},
   "outputs": [],
   "source": [
    "# def subtract(v: Vector, w: Vector) -> Vector:\n",
    "#     \"\"\"Subtracts corresponding elements\"\"\"\n",
    "#     assert len(v) == len(w), \"vectors must be the same length\"\n",
    "\n",
    "#     return [v_i - w_i for v_i, w_i in zip(v, w)]\n",
    "\n",
    "# def vector_mean(vectors: List[Vector]) -> Vector:\n",
    "#     \"\"\"Computes the element-wise average\"\"\"\n",
    "#     n = len(vectors)\n",
    "#     return scalar_multiply(1/n, vector_sum(vectors))"
   ]
  },
  {
   "cell_type": "code",
   "execution_count": 67,
   "id": "24caaeab",
   "metadata": {},
   "outputs": [
    {
     "data": {
      "image/png": "[encoded data removed]",
      "text/plain": [
       "<Figure size 432x288 with 1 Axes>"
      ]
     },
     "metadata": {
      "needs_background": "light"
     },
     "output_type": "display_data"
    }
   ],
   "source": [
    "plt.plot(Xs,Ys,'o')\n",
    "plt.title('data')\n",
    "plt.show()"
   ]
  },
  {
   "cell_type": "code",
   "execution_count": 69,
   "id": "05265ae6",
   "metadata": {},
   "outputs": [
    {
     "data": {
      "image/png": "[encoded data removed]",
      "text/plain": [
       "<Figure size 432x288 with 1 Axes>"
      ]
     },
     "metadata": {
      "needs_background": "light"
     },
     "output_type": "display_data"
    }
   ],
   "source": [
    "dXs = [i[0] for i in data]\n",
    "dYs = [i[1] for i in data]\n",
    "\n",
    "plt.plot(dXs,dYs,'o')\n",
    "plt.title('demeaned data')\n",
    "plt.show()"
   ]
  },
  {
   "cell_type": "code",
   "execution_count": 73,
   "id": "81e29eb5",
   "metadata": {},
   "outputs": [
    {
     "data": {
      "text/plain": [
       "5393.341091346851"
      ]
     },
     "execution_count": 73,
     "metadata": {},
     "output_type": "execute_result"
    }
   ],
   "source": [
    "w_dir = direction(data[0])\n",
    "\n",
    "sum(dot(v, w_dir)**2 for v in data)"
   ]
  },
  {
   "cell_type": "code",
   "execution_count": 74,
   "id": "e220d5c8",
   "metadata": {},
   "outputs": [
    {
     "data": {
      "text/plain": [
       "[-12597.982033412292, 25043.84903132742]"
      ]
     },
     "execution_count": 74,
     "metadata": {},
     "output_type": "execute_result"
    }
   ],
   "source": [
    "directional_variance_gradient(pca_data,w_dir)"
   ]
  },
  {
   "cell_type": "code",
   "execution_count": 84,
   "id": "8af5215b",
   "metadata": {},
   "outputs": [
    {
     "name": "stderr",
     "output_type": "stream",
     "text": [
      "dv: 10279.151: 100%|███████████████████████████████████████████████████████████████| 100/100 [00:00<00:00, 1158.79it/s]\n"
     ]
    }
   ],
   "source": [
    "fpc = first_principal_component(data)"
   ]
  },
  {
   "cell_type": "code",
   "execution_count": 87,
   "id": "2c97bf6d",
   "metadata": {},
   "outputs": [],
   "source": [
    "d =  remove_projection(data,fpc)\n",
    "\n",
    "dX = [i[0] for i in d]\n",
    "dY = [i[1] for i in d]"
   ]
  },
  {
   "cell_type": "code",
   "execution_count": 89,
   "id": "ca73b7dc",
   "metadata": {},
   "outputs": [
    {
     "data": {
      "text/plain": [
       "[<matplotlib.lines.Line2D at 0x2425ef6b710>]"
      ]
     },
     "execution_count": 89,
     "metadata": {},
     "output_type": "execute_result"
    },
    {
     "data": {
      "image/png": "[encoded data removed]",
      "text/plain": [
       "<Figure size 432x288 with 1 Axes>"
      ]
     },
     "metadata": {
      "needs_background": "light"
     },
     "output_type": "display_data"
    }
   ],
   "source": [
    "plt.plot(dX,dY,'o')"
   ]
  }
 ],
 "metadata": {
  "kernelspec": {
   "display_name": "Python [conda env:dsfs] *",
   "language": "python",
   "name": "conda-env-dsfs-py"
  },
  "language_info": {
   "codemirror_mode": {
    "name": "ipython",
    "version": 3
   },
   "file_extension": ".py",
   "mimetype": "text/x-python",
   "name": "python",
   "nbconvert_exporter": "python",
   "pygments_lexer": "ipython3",
   "version": "3.6.13"
  }
 },
 "nbformat": 4,
 "nbformat_minor": 5
}
